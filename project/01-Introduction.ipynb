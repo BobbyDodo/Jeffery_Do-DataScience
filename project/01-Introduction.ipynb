{
 "cells": [
  {
   "cell_type": "markdown",
   "metadata": {
    "collapsed": true
   },
   "source": [
    "# Abstract"
   ]
  },
  {
   "cell_type": "markdown",
   "metadata": {},
   "source": [
    "**General Problem**: Sometimes I forget to get some important ingredients when I go to the grocery store. There are also times where while I was cooking at home, I wished that I bought ingredients that would go well with most of the dishes I make. What is the best way to make suggestions for ingredients?\n",
    "\n",
    "**Solution**: Make a program that gives suggestions on what items should I should buy based on what I currently have in my cart. Compared different algorithms to make ingredient suggestions.\n",
    "\n",
    "**Challenge Areas**: The use of fuzzy matching from fuzzy wuzzy, use of pickle, copy, and counter."
   ]
  },
  {
   "cell_type": "markdown",
   "metadata": {},
   "source": [
    "# Description of the dataset"
   ]
  },
  {
   "cell_type": "markdown",
   "metadata": {},
   "source": [
    "Kaggle Dataset from https://www.kaggle.com/c/whats-cooking/data\n",
    "I used the files 'test.json' and 'train.json'\n",
    "There is almost 50,000 recipies combined in those datasets.\n",
    "Each JSON object in those datasets contain a recipe id and a ingredient id.\n",
    "'train.json' contains a cuisine value in it's JSON objects, but that information will not be used in this project."
   ]
  },
  {
   "cell_type": "markdown",
   "metadata": {},
   "source": [
    "# Index of other notebooks with a short description"
   ]
  },
  {
   "cell_type": "markdown",
   "metadata": {},
   "source": [
    "**02-DataCleaning.ipynb**\n",
    "- cleaning data from kaggle.com/whats-cooking \n",
    "- assert tests to ensure that data was properly grabbed\n",
    "- putting them into dataframes to be used in 03-Exploration.ipynb\n",
    "\n",
    "**03-Exploration.ipynb**\n",
    "- transform data into multiple forms to gain more insight\n",
    "- create more robust tables for modeling and machine learning purposes\n",
    "\n",
    "**04-Modeling.ipynb**\n",
    "- Look at different approaches of making ingredient suggestions\n",
    "\n",
    "**05-MachineLearning.ipynb**\n",
    "- Use supervised learning to find recipe clusters to make suggestions.\n",
    "\n",
    "**06-Presentation.ipynb**\n",
    "- Presentation notebook that gives an overview of what is written in the other notebooks.\n",
    "- Will show the full data science process"
   ]
  },
  {
   "cell_type": "markdown",
   "metadata": {},
   "source": [
    "# Citations"
   ]
  },
  {
   "cell_type": "markdown",
   "metadata": {},
   "source": [
    "**Location of Data**\n",
    "https://www.kaggle.com/c/whats-cooking/data\n",
    "\n",
    "**Some Libraries I Used**\n",
    "- FuzzyWuzzy: https://github.com/seatgeek/fuzzywuzzy used for fuzzy matching to check for named ingredients\n",
    "- nltk's WordNetLemmatizer for ingredient cleaning\n",
    "\n"
   ]
  }
 ],
 "metadata": {
  "kernelspec": {
   "display_name": "Python 3",
   "language": "python",
   "name": "python3"
  },
  "language_info": {
   "codemirror_mode": {
    "name": "ipython",
    "version": 3
   },
   "file_extension": ".py",
   "mimetype": "text/x-python",
   "name": "python",
   "nbconvert_exporter": "python",
   "pygments_lexer": "ipython3",
   "version": "3.4.3"
  }
 },
 "nbformat": 4,
 "nbformat_minor": 0
}
